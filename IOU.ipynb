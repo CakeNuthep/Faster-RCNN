{
  "nbformat": 4,
  "nbformat_minor": 0,
  "metadata": {
    "colab": {
      "provenance": [],
      "authorship_tag": "ABX9TyOawfXM6qrrk2ZHETCp7b3s",
      "include_colab_link": true
    },
    "kernelspec": {
      "name": "python3",
      "display_name": "Python 3"
    },
    "language_info": {
      "name": "python"
    }
  },
  "cells": [
    {
      "cell_type": "markdown",
      "metadata": {
        "id": "view-in-github",
        "colab_type": "text"
      },
      "source": [
        "<a href=\"https://colab.research.google.com/github/CakeNuthep/Faster-RCNN/blob/main/IOU.ipynb\" target=\"_parent\"><img src=\"https://colab.research.google.com/assets/colab-badge.svg\" alt=\"Open In Colab\"/></a>"
      ]
    },
    {
      "cell_type": "code",
      "source": [
        "import torch"
      ],
      "metadata": {
        "id": "GeYX_6lnGkVG"
      },
      "execution_count": 3,
      "outputs": []
    },
    {
      "cell_type": "code",
      "execution_count": 18,
      "metadata": {
        "id": "9jMBhSBtGUcX"
      },
      "outputs": [],
      "source": [
        "def calculate_iou(boxA, boxB):\n",
        "    #Extract bounding boxes coordinates\n",
        "    x0_A, y0_A, x1_A, y1_A = boxA\n",
        "    x0_B, y0_B, x1_B, y1_B = boxB\n",
        "\n",
        "    # Get the coordinates of the intersection rectangle\n",
        "    x0_I = max(x0_A, x0_B)\n",
        "    y0_I = max(y0_A, y0_B)\n",
        "    x1_I = min(x1_A, x1_B)\n",
        "    y1_I = min(y1_A, y1_B)\n",
        "    #Calculate width and height of the intersection area.\n",
        "    width_I = x1_I - x0_I\n",
        "    height_I = y1_I - y0_I\n",
        "    # Handle the negative value width or height of the intersection area\n",
        "    #if width_I<0 : width_I=0\n",
        "    #if height_I<0 : height_I=0\n",
        "    width_I = torch.clamp(width_I, min=0)\n",
        "    height_I = torch.clamp(height_I, min=0)\n",
        "    # Calculate the intersection area:\n",
        "    intersection = width_I * height_I\n",
        "    # Calculate the union area:\n",
        "    width_A, height_A = x1_A - x0_A, y1_A - y0_A\n",
        "    width_B, height_B = x1_B - x0_B, y1_B - y0_B\n",
        "    union = (width_A * height_A) + (width_B * height_B) - intersection\n",
        "    # Calculate the IoU:\n",
        "    IoU = intersection/union\n",
        "    return IoU"
      ]
    },
    {
      "cell_type": "code",
      "source": [
        "calculate_iou(torch.tensor([0,0,3,3]),torch.tensor([1,1,4,4]))"
      ],
      "metadata": {
        "colab": {
          "base_uri": "https://localhost:8080/"
        },
        "id": "QELJYulhGavI",
        "outputId": "d509fa5c-3acc-44ed-adf0-9c0c5355b6a5"
      },
      "execution_count": 19,
      "outputs": [
        {
          "output_type": "execute_result",
          "data": {
            "text/plain": [
              "tensor(0.2857)"
            ]
          },
          "metadata": {},
          "execution_count": 19
        }
      ]
    },
    {
      "cell_type": "code",
      "source": [
        "calculate_iou(torch.tensor([0,0,3,3]),torch.tensor([0,0,3,3]))"
      ],
      "metadata": {
        "colab": {
          "base_uri": "https://localhost:8080/"
        },
        "id": "aLlzVlDGHoHG",
        "outputId": "7d631157-c1e8-43e0-8882-28437b2a0a0c"
      },
      "execution_count": 20,
      "outputs": [
        {
          "output_type": "execute_result",
          "data": {
            "text/plain": [
              "tensor(1.)"
            ]
          },
          "metadata": {},
          "execution_count": 20
        }
      ]
    },
    {
      "cell_type": "code",
      "source": [
        "calculate_iou(torch.tensor([0,0,3,3]),torch.tensor([4,4,7,7]))"
      ],
      "metadata": {
        "colab": {
          "base_uri": "https://localhost:8080/"
        },
        "id": "fH79RW7nHLbN",
        "outputId": "e3231c72-a10a-4033-f763-f8f4a0172095"
      },
      "execution_count": 21,
      "outputs": [
        {
          "output_type": "execute_result",
          "data": {
            "text/plain": [
              "tensor(0.)"
            ]
          },
          "metadata": {},
          "execution_count": 21
        }
      ]
    },
    {
      "cell_type": "code",
      "source": [],
      "metadata": {
        "id": "a9X9oqMxHvzY"
      },
      "execution_count": null,
      "outputs": []
    }
  ]
}